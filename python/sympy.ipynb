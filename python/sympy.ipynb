{
 "cells": [
  {
   "cell_type": "code",
   "execution_count": 1,
   "metadata": {},
   "outputs": [],
   "source": [
    "from sympy import symbols, factorial, integrate\n",
    "from sympy.plotting import plot\n",
    "import sympy as sp\n",
    "import numpy as np"
   ]
  },
  {
   "cell_type": "code",
   "execution_count": null,
   "metadata": {},
   "outputs": [],
   "source": [
    "?jupyter_"
   ]
  },
  {
   "cell_type": "code",
   "execution_count": 2,
   "metadata": {},
   "outputs": [],
   "source": [
    "import pandas as pd"
   ]
  },
  {
   "cell_type": "code",
   "execution_count": 25,
   "metadata": {},
   "outputs": [
    {
     "name": "stdout",
     "output_type": "stream",
     "text": [
      "[[0.325 0.833]\n",
      " [0.386 0.453]\n",
      " [0.598 0.663]]\n"
     ]
    }
   ],
   "source": [
    "a = np.random.rand(3,1)\n",
    "b = np.random.rand(3,1)\n",
    "\n",
    "np.set_printoptions(precision=3) # Antall desimaler\n",
    "print(np.column_stack((a,b)))"
   ]
  },
  {
   "cell_type": "code",
   "execution_count": 23,
   "metadata": {},
   "outputs": [
    {
     "name": "stdout",
     "output_type": "stream",
     "text": [
      "[[0.09930476 0.47734491]\n",
      " [0.71674142 0.01656702]\n",
      " [0.921668   0.69451363]]\n"
     ]
    }
   ],
   "source": [
    "print(np.column_stack((a,b))"
   ]
  },
  {
   "cell_type": "code",
   "execution_count": null,
   "metadata": {},
   "outputs": [],
   "source": [
    "as"
   ]
  },
  {
   "cell_type": "code",
   "execution_count": 9,
   "metadata": {},
   "outputs": [],
   "source": [
    "x, c, a, b = symbols('x c a b')"
   ]
  },
  {
   "cell_type": "code",
   "execution_count": 4,
   "metadata": {},
   "outputs": [],
   "source": [
    "sp.init_printing()"
   ]
  },
  {
   "cell_type": "code",
   "execution_count": 14,
   "metadata": {},
   "outputs": [],
   "source": [
    "f = (x**(a-1) * (1-x)**(b-1))"
   ]
  },
  {
   "cell_type": "code",
   "execution_count": null,
   "metadata": {},
   "outputs": [],
   "source": [
    "integrate(f, (x, 0, c), (c, 0, 1))"
   ]
  },
  {
   "cell_type": "code",
   "execution_count": 9,
   "metadata": {},
   "outputs": [],
   "source": [
    "p, phat, z, n = symbols('p phat z n')"
   ]
  },
  {
   "cell_type": "code",
   "execution_count": 19,
   "metadata": {},
   "outputs": [],
   "source": [
    "u, v, n, s = symbols('u v n s')"
   ]
  },
  {
   "cell_type": "code",
   "execution_count": 23,
   "metadata": {},
   "outputs": [
    {
     "data": {
      "image/png": "[encoded data removed]",
      "text/latex": [
       "$$\\frac{\\left(- v + 1\\right)^{n - 18} n!}{16 s! \\left(n - 18\\right)!}$$"
      ],
      "text/plain": [
       "        n - 18   \n",
       "(-v + 1)      ⋅n!\n",
       "─────────────────\n",
       " 16⋅s!⋅(n - 18)! "
      ]
     },
     "execution_count": 23,
     "metadata": {},
     "output_type": "execute_result"
    }
   ],
   "source": [
    "(factorial(n)/(factorial(s)*factorial(n-18)*16)  *(1-v)**(n-18))"
   ]
  },
  {
   "cell_type": "code",
   "execution_count": 25,
   "metadata": {},
   "outputs": [
    {
     "data": {
      "text/latex": [
       "$$\\begin{cases} - \\frac{0^{n - 17} n!}{16 \\left(n - 17\\right) s! \\left(n - 18\\right)!} + \\frac{n!}{16 \\left(n - 17\\right) s! \\left(n - 18\\right)!} & \\text{for}\\: n > -\\infty \\wedge n < \\infty \\wedge n \\neq 17 \\\\\\infty \\operatorname{sign}{\\left (\\frac{\\Gamma\\left(n + 1\\right)}{\\Gamma\\left(n - 17\\right) \\Gamma\\left(s + 1\\right)} \\right )} & \\text{otherwise} \\end{cases}$$"
      ],
      "text/plain": [
       "⎧          n - 17                                                             \n",
       "⎪         0      ⋅n!                     n!                                   \n",
       "⎪- ──────────────────────── + ────────────────────────  for n > -∞ ∧ n < ∞ ∧ n\n",
       "⎪  16⋅(n - 17)⋅s!⋅(n - 18)!   16⋅(n - 17)⋅s!⋅(n - 18)!                        \n",
       "⎨                                                                             \n",
       "⎪                   ⎛     Γ(n + 1)     ⎞                                      \n",
       "⎪             ∞⋅sign⎜──────────────────⎟                         otherwise    \n",
       "⎪                   ⎝Γ(n - 17)⋅Γ(s + 1)⎠                                      \n",
       "⎩                                                                             \n",
       "\n",
       "     \n",
       "     \n",
       " ≠ 17\n",
       "     \n",
       "     \n",
       "     \n",
       "     \n",
       "     \n",
       "     "
      ]
     },
     "execution_count": 25,
     "metadata": {},
     "output_type": "execute_result"
    }
   ],
   "source": [
    "sp.integrate( (factorial(n)/(factorial(s)*factorial(n-18)*16)  *(1-v)**(n-18)) , (v, 0, 1) )"
   ]
  },
  {
   "cell_type": "code",
   "execution_count": 13,
   "metadata": {},
   "outputs": [
    {
     "data": {
      "image/png": "[encoded data removed]",
      "text/latex": [
       "$$\\left [ \\frac{n \\hat{p} + \\frac{z^{2}}{2} - \\frac{z \\sqrt{- 4 n \\hat{p}^{2} + 4 n \\hat{p} + z^{2}}}{2}}{n + z^{2}}, \\quad \\frac{n \\hat{p} + \\frac{z^{2}}{2} + \\frac{z \\sqrt{- 4 n \\hat{p}^{2} + 4 n \\hat{p} + z^{2}}}{2}}{n + z^{2}}\\right ]$$"
      ],
      "text/plain": [
       "⎡                 _________________________                   ________________\n",
       "⎢        2       ╱         2             2           2       ╱         2      \n",
       "⎢       z    z⋅╲╱  - 4⋅n⋅p̂  + 4⋅n⋅p̂ + z           z    z⋅╲╱  - 4⋅n⋅p̂  + 4⋅n\n",
       "⎢n⋅p̂ + ── - ──────────────────────────────  n⋅p̂ + ── + ─────────────────────\n",
       "⎢       2                  2                        2                  2      \n",
       "⎢──────────────────────────────────────────, ─────────────────────────────────\n",
       "⎢                       2                                           2         \n",
       "⎣                  n + z                                       n + z          \n",
       "\n",
       "_________⎤\n",
       "       2 ⎥\n",
       "⋅p̂ + z  ⎥\n",
       "─────────⎥\n",
       "         ⎥\n",
       "─────────⎥\n",
       "         ⎥\n",
       "         ⎦"
      ]
     },
     "execution_count": 13,
     "metadata": {},
     "output_type": "execute_result"
    }
   ],
   "source": [
    "sp.solve(((phat-p)/(sp.sqrt(p*(1-p)/n))) - z, p)"
   ]
  },
  {
   "cell_type": "code",
   "execution_count": 20,
   "metadata": {},
   "outputs": [],
   "source": [
    "y = x/2"
   ]
  },
  {
   "cell_type": "code",
   "execution_count": 36,
   "metadata": {},
   "outputs": [
    {
     "data": {
      "image/png": "[encoded data removed]",
      "text/plain": [
       "<Figure size 432x288 with 1 Axes>"
      ]
     },
     "metadata": {
      "needs_background": "light"
     },
     "output_type": "display_data"
    }
   ],
   "source": [
    "p = sp.plot(sp.exp(-(x)**2), sp.exp(-(x/2)**2), sp.exp(-(x/2)**2)/2, (x, -2, 2), show=False)\n",
    "p[1].line_color = 'r'\n",
    "p[2].line_color = 'g'\n",
    "\n",
    "p.show()"
   ]
  }
 ],
 "metadata": {
  "kernelspec": {
   "display_name": "Python 3",
   "language": "python",
   "name": "python3"
  },
  "language_info": {
   "codemirror_mode": {
    "name": "ipython",
    "version": 3
   },
   "file_extension": ".py",
   "mimetype": "text/x-python",
   "name": "python",
   "nbconvert_exporter": "python",
   "pygments_lexer": "ipython3",
   "version": "3.6.7"
  }
 },
 "nbformat": 4,
 "nbformat_minor": 2
}
